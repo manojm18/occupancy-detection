{
 "cells": [
  {
   "cell_type": "code",
   "execution_count": 2,
   "metadata": {
    "collapsed": true
   },
   "outputs": [],
   "source": [
    "from os.path import join\n",
    "import pandas as pd\n",
    "import numpy as np\n",
    "import seaborn as sns"
   ]
  },
  {
   "cell_type": "code",
   "execution_count": 5,
   "metadata": {
    "collapsed": true
   },
   "outputs": [],
   "source": [
    "\n",
    "def builds_dictionary(house_list_dir):\n",
    "    buildings_list = []\n",
    "    buildings = {}\n",
    "    list_of_buildings = pd.read_csv(join(house_list_dir,'house_list_AC_area.csv'))\n",
    "    for index,row in list_of_buildings.iterrows():\n",
    "        buildings = {\n",
    "                     \"dataid\":int(row['dataid']),\n",
    "                    \"start_period\":row['date_enrolled'],\n",
    "                    \"end_period\":row['date_withdrawn'],\n",
    "                    \"year_constructed\":row['house_construction_year'],\n",
    "                    \"total_area\":row['total_square_footage'],\n",
    "                    \"first_floor_area\":row['first_floor_square_footage'],\n",
    "                    \"second_floor_area\":row['second_floor_square_footage'],\n",
    "                    \"third_floor_area\":row['third_floor_square_footage'],}\n",
    "        buildings_list.append(buildings)\n",
    "    return buildings_list\n"
   ]
  },
  {
   "cell_type": "code",
   "execution_count": 6,
   "metadata": {
    "collapsed": true
   },
   "outputs": [],
   "source": [
    "def find_between( s, first, last ):\n",
    "    try:\n",
    "        start = s.index( first ) + len( first )\n",
    "        end = s.index( last, start )\n",
    "        return s[start:end]\n",
    "    except ValueError:\n",
    "        return \"\""
   ]
  },
  {
   "cell_type": "code",
   "execution_count": 7,
   "metadata": {
    "collapsed": true
   },
   "outputs": [],
   "source": [
    "def load_weather_data(path,weather_file_name,column,index):\n",
    "    weather_file = join(path +weather_file_name )\n",
    "    #removing the time zone information from index and using localhour\n",
    "    df = pd.read_csv(weather_file,sep=';',index_col=index,parse_dates=[index], date_parser=lambda x: pd.to_datetime(x.rpartition('-')[0]))\n",
    "    #df.index = pd.to_datetime(df.index)#.tz_localize(UTC)#.tz_convert('US/Eastern')\n",
    "    df = df[column]\n",
    "    return df"
   ]
  },
  {
   "cell_type": "code",
   "execution_count": 8,
   "metadata": {
    "collapsed": true
   },
   "outputs": [],
   "source": [
    "def load_irradiance_data(path,irradiance_file_name,column,index):\n",
    "    irradiance_file = join(path+irradiance_file_name)\n",
    "    df = pd.read_csv(irradiance_file,sep=';',index_col=index)\n",
    "    df.index = pd.to_datetime(df.index)\n",
    "    df = df[column]\n",
    "    return df"
   ]
  },
  {
   "cell_type": "code",
   "execution_count": 9,
   "metadata": {
    "collapsed": true
   },
   "outputs": [],
   "source": [
    "def normalize(df):\n",
    "    return (df-df.min())/(df.max()-df.min())"
   ]
  },
  {
   "cell_type": "code",
   "execution_count": 1,
   "metadata": {
    "collapsed": true
   },
   "outputs": [],
   "source": [
    "def features_creation(df):\n",
    "    # creatures time based features from pandas dataframe\n",
    "    # such hour of day, weekday/weekend, day/night and so on\n",
    "    # sin hour and cos hour as just indirect representation of time of day\n",
    "    df['sin_hour'] = np.sin((df.index.hour)*2*np.pi/24)\n",
    "    df['cos_hour'] = np.cos((df.index.hour)*2*np.pi/24)#later try 24 vector binary format\n",
    "    df['hour'] = df.index.hour # 0 to 23\n",
    "    df['day_of_week'] = df.index.dayofweek #Monday = 0, sunday = 6\n",
    "    df['weekend'] = [ 1 if day in (5, 6) else 0 for day in df.index.dayofweek ] # 1 for weekend and 0 for weekdays\n",
    "    df['month'] = df.index.month\n",
    "    df['week_of_year'] = df.index.week\n",
    "    # day = 1 if(10Hrs -19Hrs) and Night = 0 (otherwise)\n",
    "    df['day_night'] = [1 if day<20 and day>9 else 0 for day in df.index.hour ]\n",
    "    return df "
   ]
  },
  {
   "cell_type": "code",
   "execution_count": 3,
   "metadata": {
    "collapsed": true
   },
   "outputs": [],
   "source": [
    "def lag_column(df,column_names,lag_period=1):\n",
    "#df              > pandas dataframe\n",
    "#column_names    > names of column/columns as a list\n",
    "#lag_period      > number of steps to lag ( +ve or -ve) usually postive \n",
    "#to include past values for current row \n",
    "    for column_name in column_names:\n",
    "        column_name = [str(column_name)]\n",
    "        for i in np.arange(1,lag_period+1,1):\n",
    "            new_column_name = [col +'_'+str(i) for col in column_name]\n",
    "            df[new_column_name]=(df[column_name]).shift(i)\n",
    "    return df"
   ]
  },
  {
   "cell_type": "code",
   "execution_count": 4,
   "metadata": {
    "collapsed": true
   },
   "outputs": [],
   "source": [
    "def plot_correlation(df,selected_columns=None,annot=False):\n",
    "    '''Function plots a graphical correlation matrix for each pair of columns in the dataframe.\n",
    "    Input:\n",
    "        df: pandas DataFrame\n",
    "        selected_columns: if you want to select columns containing 1 or more substring\n",
    "        Example: selected_columns=\"air\" - selects columns air conditioner and such\n",
    "        selected columns = \"air|temp\" - selects columns containing air conditioner and temperature'''\n",
    "        \n",
    "    if selected_columns==None:\n",
    "        df_correlation = df.corr()\n",
    "    else:\n",
    "        df_correlation = df[df.filter(regex=selected_columns).columns].corr()\n",
    "    fig = plt.figure()\n",
    "    plot = fig.add_axes()\n",
    "    plot = sns.heatmap(df_correlation, annot=annot)\n",
    "    plot.xaxis.tick_top() \n",
    "    plt.yticks(rotation=0)\n",
    "    plt.xticks(rotation=90)\n",
    "    plt.show()"
   ]
  },
  {
   "cell_type": "code",
   "execution_count": 8,
   "metadata": {
    "collapsed": true
   },
   "outputs": [],
   "source": [
    "from sklearn.metrics import mean_absolute_error,mean_squared_error,r2_score\n",
    "class accuracy_metrics:\n",
    "    def coeff_var(self,df,actual_col,predicted_col):\n",
    "        y_actual_mean = df[actual_col].mean()\n",
    "        mse = mean_squared_error(df[actual_col],df[predicted_col])\n",
    "        return np.sqrt(mse)/y_actual_mean\n",
    "    def mean_bias_err(self,df,actual_col,predicted_col):\n",
    "        y_actual_mean = df[actual_col].mean()\n",
    "        return mean_absolute_error(df[actual_col],df[predicted_col])/y_actual_mean\n",
    "    def r2_score(self,df,actual_col,predicted_col):\n",
    "        return r2_score(df[actual_col],df[predicted_col])"
   ]
  },
  {
   "cell_type": "code",
   "execution_count": 1,
   "metadata": {
    "collapsed": true
   },
   "outputs": [],
   "source": [
    "def get_metrics(df):\n",
    "    metrics = accuracy_metrics()\n",
    "    cv = metrics.coeff_var(df,df.columns[1],df.columns[0])*100\n",
    "    mbe = (metrics.mean_bias_err(df,df.columns[1],df.columns[0])*100)\n",
    "    r2 = metrics.r2_score(df,df.columns[1],df.columns[0])\n",
    "    print_metrics(cv,mbe,r2)\n",
    "    return cv, mbe, r2"
   ]
  },
  {
   "cell_type": "code",
   "execution_count": 1,
   "metadata": {
    "collapsed": true
   },
   "outputs": [],
   "source": [
    "def print_metrics(cv,mbe,r2):\n",
    "    print \"coefficient of variance = {:.2f}\".format(cv)\n",
    "    print \"Mean bias error = {:.2f}\".format(mbe)\n",
    "    print \"R Squared = {:.3f}\".format(r2)"
   ]
  },
  {
   "cell_type": "code",
   "execution_count": null,
   "metadata": {
    "collapsed": true
   },
   "outputs": [],
   "source": []
  }
 ],
 "metadata": {
  "anaconda-cloud": {},
  "kernelspec": {
   "display_name": "Python [default]",
   "language": "python",
   "name": "python2"
  },
  "language_info": {
   "codemirror_mode": {
    "name": "ipython",
    "version": 2
   },
   "file_extension": ".py",
   "mimetype": "text/x-python",
   "name": "python",
   "nbconvert_exporter": "python",
   "pygments_lexer": "ipython2",
   "version": "2.7.12"
  }
 },
 "nbformat": 4,
 "nbformat_minor": 1
}
